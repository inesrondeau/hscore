{
 "cells": [
  {
   "cell_type": "code",
   "execution_count": 1,
   "id": "f9665108",
   "metadata": {},
   "outputs": [
    {
     "name": "stdout",
     "output_type": "stream",
     "text": [
      "········\n"
     ]
    }
   ],
   "source": [
    "import pymysql\n",
    "from sqlalchemy import create_engine\n",
    "import pandas as pd\n",
    "import getpass \n",
    "import numpy as np\n",
    "password = getpass.getpass()"
   ]
  },
  {
   "cell_type": "code",
   "execution_count": 2,
   "id": "3e39792f",
   "metadata": {},
   "outputs": [
    {
     "data": {
      "text/html": [
       "<div>\n",
       "<style scoped>\n",
       "    .dataframe tbody tr th:only-of-type {\n",
       "        vertical-align: middle;\n",
       "    }\n",
       "\n",
       "    .dataframe tbody tr th {\n",
       "        vertical-align: top;\n",
       "    }\n",
       "\n",
       "    .dataframe thead th {\n",
       "        text-align: right;\n",
       "    }\n",
       "</style>\n",
       "<table border=\"1\" class=\"dataframe\">\n",
       "  <thead>\n",
       "    <tr style=\"text-align: right;\">\n",
       "      <th></th>\n",
       "      <th>country</th>\n",
       "      <th>value</th>\n",
       "      <th>happy_score</th>\n",
       "    </tr>\n",
       "  </thead>\n",
       "  <tbody>\n",
       "    <tr>\n",
       "      <th>0</th>\n",
       "      <td>Afghanistan</td>\n",
       "      <td>0.21</td>\n",
       "      <td>3.982855</td>\n",
       "    </tr>\n",
       "    <tr>\n",
       "      <th>1</th>\n",
       "      <td>Albania</td>\n",
       "      <td>6.74</td>\n",
       "      <td>4.606651</td>\n",
       "    </tr>\n",
       "    <tr>\n",
       "      <th>2</th>\n",
       "      <td>Argentina</td>\n",
       "      <td>9.55</td>\n",
       "      <td>6.697131</td>\n",
       "    </tr>\n",
       "    <tr>\n",
       "      <th>3</th>\n",
       "      <td>Armenia</td>\n",
       "      <td>5.84</td>\n",
       "      <td>4.348320</td>\n",
       "    </tr>\n",
       "    <tr>\n",
       "      <th>4</th>\n",
       "      <td>Australia</td>\n",
       "      <td>10.83</td>\n",
       "      <td>7.309061</td>\n",
       "    </tr>\n",
       "  </tbody>\n",
       "</table>\n",
       "</div>"
      ],
      "text/plain": [
       "       country  value  happy_score\n",
       "0  Afghanistan   0.21     3.982855\n",
       "1      Albania   6.74     4.606651\n",
       "2    Argentina   9.55     6.697131\n",
       "3      Armenia   5.84     4.348320\n",
       "4    Australia  10.83     7.309061"
      ]
     },
     "execution_count": 2,
     "metadata": {},
     "output_type": "execute_result"
    }
   ],
   "source": [
    "connection_string = 'mysql+pymysql://root:' + password + '@localhost/happiness'\n",
    "engine = create_engine(connection_string)\n",
    "query = '''SELECT h.country, a.value , h.happy_score\n",
    "FROM alcohols a\n",
    "JOIN hscore h\n",
    "USING (country);'''\n",
    "\n",
    "data = pd.read_sql_query(query, engine)\n",
    "data.head()"
   ]
  },
  {
   "cell_type": "code",
   "execution_count": 5,
   "id": "860f381a",
   "metadata": {},
   "outputs": [
    {
     "data": {
      "text/plain": [
       "count    130.000000\n",
       "mean       5.433113\n",
       "std        1.125982\n",
       "min        2.701591\n",
       "25%        4.621119\n",
       "50%        5.379119\n",
       "75%        6.339649\n",
       "max        7.603434\n",
       "Name: happy_score, dtype: float64"
      ]
     },
     "execution_count": 5,
     "metadata": {},
     "output_type": "execute_result"
    }
   ],
   "source": [
    "data['happy_score'].describe()"
   ]
  },
  {
   "cell_type": "code",
   "execution_count": 28,
   "id": "99f4e05b",
   "metadata": {},
   "outputs": [],
   "source": [
    "data['value']=data['value'].astype(np.number)\n",
    "data['happy_score']=data['happy_score'].astype(np.number)"
   ]
  },
  {
   "cell_type": "code",
   "execution_count": 29,
   "id": "3780dc09",
   "metadata": {},
   "outputs": [],
   "source": [
    "data_h=data[data['happy_score']>5.5]"
   ]
  },
  {
   "cell_type": "code",
   "execution_count": 30,
   "id": "ed8b52d5",
   "metadata": {},
   "outputs": [
    {
     "data": {
      "text/html": [
       "<div>\n",
       "<style scoped>\n",
       "    .dataframe tbody tr th:only-of-type {\n",
       "        vertical-align: middle;\n",
       "    }\n",
       "\n",
       "    .dataframe tbody tr th {\n",
       "        vertical-align: top;\n",
       "    }\n",
       "\n",
       "    .dataframe thead th {\n",
       "        text-align: right;\n",
       "    }\n",
       "</style>\n",
       "<table border=\"1\" class=\"dataframe\">\n",
       "  <thead>\n",
       "    <tr style=\"text-align: right;\">\n",
       "      <th></th>\n",
       "      <th>country</th>\n",
       "      <th>value</th>\n",
       "      <th>happy_score</th>\n",
       "    </tr>\n",
       "  </thead>\n",
       "  <tbody>\n",
       "    <tr>\n",
       "      <th>2</th>\n",
       "      <td>Argentina</td>\n",
       "      <td>9.55</td>\n",
       "      <td>6.697131</td>\n",
       "    </tr>\n",
       "    <tr>\n",
       "      <th>4</th>\n",
       "      <td>Australia</td>\n",
       "      <td>10.83</td>\n",
       "      <td>7.309061</td>\n",
       "    </tr>\n",
       "    <tr>\n",
       "      <th>5</th>\n",
       "      <td>Austria</td>\n",
       "      <td>12.07</td>\n",
       "      <td>7.076447</td>\n",
       "    </tr>\n",
       "    <tr>\n",
       "      <th>7</th>\n",
       "      <td>Bahrain</td>\n",
       "      <td>1.30</td>\n",
       "      <td>6.007375</td>\n",
       "    </tr>\n",
       "    <tr>\n",
       "      <th>9</th>\n",
       "      <td>Belarus</td>\n",
       "      <td>12.00</td>\n",
       "      <td>5.718908</td>\n",
       "    </tr>\n",
       "  </tbody>\n",
       "</table>\n",
       "</div>"
      ],
      "text/plain": [
       "     country  value  happy_score\n",
       "2  Argentina   9.55     6.697131\n",
       "4  Australia  10.83     7.309061\n",
       "5    Austria  12.07     7.076447\n",
       "7    Bahrain   1.30     6.007375\n",
       "9    Belarus  12.00     5.718908"
      ]
     },
     "execution_count": 30,
     "metadata": {},
     "output_type": "execute_result"
    }
   ],
   "source": [
    "data_h.head()"
   ]
  },
  {
   "cell_type": "code",
   "execution_count": 31,
   "id": "7fec1540",
   "metadata": {},
   "outputs": [],
   "source": [
    "data_s=data[data['happy_score']<=5.5]"
   ]
  },
  {
   "cell_type": "code",
   "execution_count": 32,
   "id": "92b323c8",
   "metadata": {},
   "outputs": [
    {
     "data": {
      "text/html": [
       "<div>\n",
       "<style scoped>\n",
       "    .dataframe tbody tr th:only-of-type {\n",
       "        vertical-align: middle;\n",
       "    }\n",
       "\n",
       "    .dataframe tbody tr th {\n",
       "        vertical-align: top;\n",
       "    }\n",
       "\n",
       "    .dataframe thead th {\n",
       "        text-align: right;\n",
       "    }\n",
       "</style>\n",
       "<table border=\"1\" class=\"dataframe\">\n",
       "  <thead>\n",
       "    <tr style=\"text-align: right;\">\n",
       "      <th></th>\n",
       "      <th>country</th>\n",
       "      <th>value</th>\n",
       "      <th>happy_score</th>\n",
       "    </tr>\n",
       "  </thead>\n",
       "  <tbody>\n",
       "    <tr>\n",
       "      <th>0</th>\n",
       "      <td>Afghanistan</td>\n",
       "      <td>0.210</td>\n",
       "      <td>3.982855</td>\n",
       "    </tr>\n",
       "    <tr>\n",
       "      <th>1</th>\n",
       "      <td>Albania</td>\n",
       "      <td>6.740</td>\n",
       "      <td>4.606651</td>\n",
       "    </tr>\n",
       "    <tr>\n",
       "      <th>3</th>\n",
       "      <td>Armenia</td>\n",
       "      <td>5.840</td>\n",
       "      <td>4.348320</td>\n",
       "    </tr>\n",
       "    <tr>\n",
       "      <th>6</th>\n",
       "      <td>Azerbaijan</td>\n",
       "      <td>4.580</td>\n",
       "      <td>5.146775</td>\n",
       "    </tr>\n",
       "    <tr>\n",
       "      <th>8</th>\n",
       "      <td>Bangladesh</td>\n",
       "      <td>0.021</td>\n",
       "      <td>4.633474</td>\n",
       "    </tr>\n",
       "  </tbody>\n",
       "</table>\n",
       "</div>"
      ],
      "text/plain": [
       "       country  value  happy_score\n",
       "0  Afghanistan  0.210     3.982855\n",
       "1      Albania  6.740     4.606651\n",
       "3      Armenia  5.840     4.348320\n",
       "6   Azerbaijan  4.580     5.146775\n",
       "8   Bangladesh  0.021     4.633474"
      ]
     },
     "execution_count": 32,
     "metadata": {},
     "output_type": "execute_result"
    }
   ],
   "source": [
    "data_s.head()"
   ]
  },
  {
   "cell_type": "code",
   "execution_count": 33,
   "id": "0f2c04ae",
   "metadata": {},
   "outputs": [],
   "source": [
    "#H0: alcohol abuse is independent to the happy score of each country\n",
    "#data_h['value']=data_s['value']"
   ]
  },
  {
   "cell_type": "code",
   "execution_count": 34,
   "id": "f6bb6b3e",
   "metadata": {},
   "outputs": [
    {
     "name": "stdout",
     "output_type": "stream",
     "text": [
      "0.0027612039650190302\n",
      "Probably dependent\n"
     ]
    }
   ],
   "source": [
    "import scipy.stats as st\n",
    "table=pd.crosstab(data_h['value'], data_h['value'])\n",
    "p=st.chi2_contingency(table)[1]\n",
    "print(p)\n",
    "if p > 0.05:\n",
    "    print('Probably independent')\n",
    "else:\n",
    "    print('Probably dependent')"
   ]
  },
  {
   "cell_type": "code",
   "execution_count": 37,
   "id": "e85e58ef",
   "metadata": {},
   "outputs": [],
   "source": [
    "data.to_csv('hip_alcohol1.csv')"
   ]
  },
  {
   "cell_type": "code",
   "execution_count": 36,
   "id": "712ab5af",
   "metadata": {},
   "outputs": [
    {
     "data": {
      "text/plain": [
       "country         object\n",
       "value          float64\n",
       "happy_score    float64\n",
       "dtype: object"
      ]
     },
     "execution_count": 36,
     "metadata": {},
     "output_type": "execute_result"
    }
   ],
   "source": [
    "data.dtypes"
   ]
  },
  {
   "cell_type": "code",
   "execution_count": null,
   "id": "1e093a77",
   "metadata": {},
   "outputs": [],
   "source": []
  }
 ],
 "metadata": {
  "kernelspec": {
   "display_name": "Python 3",
   "language": "python",
   "name": "python3"
  },
  "language_info": {
   "codemirror_mode": {
    "name": "ipython",
    "version": 3
   },
   "file_extension": ".py",
   "mimetype": "text/x-python",
   "name": "python",
   "nbconvert_exporter": "python",
   "pygments_lexer": "ipython3",
   "version": "3.8.8"
  }
 },
 "nbformat": 4,
 "nbformat_minor": 5
}
