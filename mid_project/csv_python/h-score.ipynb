{
 "cells": [
  {
   "cell_type": "code",
   "execution_count": 1,
   "id": "aab8d1df",
   "metadata": {},
   "outputs": [],
   "source": [
    "import imblearn\n",
    "import pandas as pd\n",
    "import numpy as np\n",
    "import matplotlib.pyplot as plt\n",
    "import seaborn as sns\n",
    "%matplotlib inline"
   ]
  },
  {
   "cell_type": "code",
   "execution_count": 2,
   "id": "924d93c4",
   "metadata": {},
   "outputs": [],
   "source": [
    "data_hscore=pd.read_excel('DataPanelWHR2021C2.xls')"
   ]
  },
  {
   "cell_type": "code",
   "execution_count": 3,
   "id": "cb2a263b",
   "metadata": {},
   "outputs": [
    {
     "data": {
      "text/html": [
       "<div>\n",
       "<style scoped>\n",
       "    .dataframe tbody tr th:only-of-type {\n",
       "        vertical-align: middle;\n",
       "    }\n",
       "\n",
       "    .dataframe tbody tr th {\n",
       "        vertical-align: top;\n",
       "    }\n",
       "\n",
       "    .dataframe thead th {\n",
       "        text-align: right;\n",
       "    }\n",
       "</style>\n",
       "<table border=\"1\" class=\"dataframe\">\n",
       "  <thead>\n",
       "    <tr style=\"text-align: right;\">\n",
       "      <th></th>\n",
       "      <th>Country name</th>\n",
       "      <th>year</th>\n",
       "      <th>Life Ladder</th>\n",
       "      <th>Log GDP per capita</th>\n",
       "      <th>Social support</th>\n",
       "      <th>Healthy life expectancy at birth</th>\n",
       "      <th>Freedom to make life choices</th>\n",
       "      <th>Generosity</th>\n",
       "      <th>Perceptions of corruption</th>\n",
       "      <th>Positive affect</th>\n",
       "      <th>Negative affect</th>\n",
       "    </tr>\n",
       "  </thead>\n",
       "  <tbody>\n",
       "    <tr>\n",
       "      <th>0</th>\n",
       "      <td>Afghanistan</td>\n",
       "      <td>2008</td>\n",
       "      <td>3.723590</td>\n",
       "      <td>7.370100</td>\n",
       "      <td>0.450662</td>\n",
       "      <td>50.799999</td>\n",
       "      <td>0.718114</td>\n",
       "      <td>0.167640</td>\n",
       "      <td>0.881686</td>\n",
       "      <td>0.517637</td>\n",
       "      <td>0.258195</td>\n",
       "    </tr>\n",
       "    <tr>\n",
       "      <th>1</th>\n",
       "      <td>Afghanistan</td>\n",
       "      <td>2009</td>\n",
       "      <td>4.401778</td>\n",
       "      <td>7.539972</td>\n",
       "      <td>0.552308</td>\n",
       "      <td>51.200001</td>\n",
       "      <td>0.678896</td>\n",
       "      <td>0.190099</td>\n",
       "      <td>0.850035</td>\n",
       "      <td>0.583926</td>\n",
       "      <td>0.237092</td>\n",
       "    </tr>\n",
       "    <tr>\n",
       "      <th>2</th>\n",
       "      <td>Afghanistan</td>\n",
       "      <td>2010</td>\n",
       "      <td>4.758381</td>\n",
       "      <td>7.646709</td>\n",
       "      <td>0.539075</td>\n",
       "      <td>51.599998</td>\n",
       "      <td>0.600127</td>\n",
       "      <td>0.120590</td>\n",
       "      <td>0.706766</td>\n",
       "      <td>0.618265</td>\n",
       "      <td>0.275324</td>\n",
       "    </tr>\n",
       "    <tr>\n",
       "      <th>3</th>\n",
       "      <td>Afghanistan</td>\n",
       "      <td>2011</td>\n",
       "      <td>3.831719</td>\n",
       "      <td>7.619532</td>\n",
       "      <td>0.521104</td>\n",
       "      <td>51.919998</td>\n",
       "      <td>0.495901</td>\n",
       "      <td>0.162427</td>\n",
       "      <td>0.731109</td>\n",
       "      <td>0.611387</td>\n",
       "      <td>0.267175</td>\n",
       "    </tr>\n",
       "    <tr>\n",
       "      <th>4</th>\n",
       "      <td>Afghanistan</td>\n",
       "      <td>2012</td>\n",
       "      <td>3.782938</td>\n",
       "      <td>7.705479</td>\n",
       "      <td>0.520637</td>\n",
       "      <td>52.240002</td>\n",
       "      <td>0.530935</td>\n",
       "      <td>0.236032</td>\n",
       "      <td>0.775620</td>\n",
       "      <td>0.710385</td>\n",
       "      <td>0.267919</td>\n",
       "    </tr>\n",
       "  </tbody>\n",
       "</table>\n",
       "</div>"
      ],
      "text/plain": [
       "  Country name  year  Life Ladder  Log GDP per capita  Social support  \\\n",
       "0  Afghanistan  2008     3.723590            7.370100        0.450662   \n",
       "1  Afghanistan  2009     4.401778            7.539972        0.552308   \n",
       "2  Afghanistan  2010     4.758381            7.646709        0.539075   \n",
       "3  Afghanistan  2011     3.831719            7.619532        0.521104   \n",
       "4  Afghanistan  2012     3.782938            7.705479        0.520637   \n",
       "\n",
       "   Healthy life expectancy at birth  Freedom to make life choices  Generosity  \\\n",
       "0                         50.799999                      0.718114    0.167640   \n",
       "1                         51.200001                      0.678896    0.190099   \n",
       "2                         51.599998                      0.600127    0.120590   \n",
       "3                         51.919998                      0.495901    0.162427   \n",
       "4                         52.240002                      0.530935    0.236032   \n",
       "\n",
       "   Perceptions of corruption  Positive affect  Negative affect  \n",
       "0                   0.881686         0.517637         0.258195  \n",
       "1                   0.850035         0.583926         0.237092  \n",
       "2                   0.706766         0.618265         0.275324  \n",
       "3                   0.731109         0.611387         0.267175  \n",
       "4                   0.775620         0.710385         0.267919  "
      ]
     },
     "execution_count": 3,
     "metadata": {},
     "output_type": "execute_result"
    }
   ],
   "source": [
    "data_hscore.head()"
   ]
  },
  {
   "cell_type": "code",
   "execution_count": 4,
   "id": "b4b3861d",
   "metadata": {},
   "outputs": [
    {
     "data": {
      "text/plain": [
       "Country name                         object\n",
       "year                                  int64\n",
       "Life Ladder                         float64\n",
       "Log GDP per capita                  float64\n",
       "Social support                      float64\n",
       "Healthy life expectancy at birth    float64\n",
       "Freedom to make life choices        float64\n",
       "Generosity                          float64\n",
       "Perceptions of corruption           float64\n",
       "Positive affect                     float64\n",
       "Negative affect                     float64\n",
       "dtype: object"
      ]
     },
     "execution_count": 4,
     "metadata": {},
     "output_type": "execute_result"
    }
   ],
   "source": [
    "data_hscore.dtypes"
   ]
  },
  {
   "cell_type": "code",
   "execution_count": 5,
   "id": "ec0b801f",
   "metadata": {},
   "outputs": [],
   "source": [
    "#dropping positive and negative aafect, cause thye're subjective terms, and not actually used to calculate any index"
   ]
  },
  {
   "cell_type": "code",
   "execution_count": 6,
   "id": "ee115c04",
   "metadata": {},
   "outputs": [],
   "source": [
    "data_hscore=data_hscore.drop(['Positive affect','Negative affect'],axis=1)"
   ]
  },
  {
   "cell_type": "code",
   "execution_count": 7,
   "id": "24738629",
   "metadata": {},
   "outputs": [],
   "source": [
    "#keeping only information about the years 2005,2010,2015,2016 beacuse they're values extracted from reliable sources (WHO) and the other's are computed."
   ]
  },
  {
   "cell_type": "code",
   "execution_count": 8,
   "id": "8d807eff",
   "metadata": {},
   "outputs": [],
   "source": [
    "data_hscore=data_hscore[(data_hscore['year']==2005)|(data_hscore['year']==2010)|(data_hscore['year']==2015)|(data_hscore['year']==2016)]"
   ]
  },
  {
   "cell_type": "code",
   "execution_count": 9,
   "id": "cdb034b6",
   "metadata": {},
   "outputs": [
    {
     "data": {
      "text/html": [
       "<div>\n",
       "<style scoped>\n",
       "    .dataframe tbody tr th:only-of-type {\n",
       "        vertical-align: middle;\n",
       "    }\n",
       "\n",
       "    .dataframe tbody tr th {\n",
       "        vertical-align: top;\n",
       "    }\n",
       "\n",
       "    .dataframe thead th {\n",
       "        text-align: right;\n",
       "    }\n",
       "</style>\n",
       "<table border=\"1\" class=\"dataframe\">\n",
       "  <thead>\n",
       "    <tr style=\"text-align: right;\">\n",
       "      <th></th>\n",
       "      <th>Country name</th>\n",
       "      <th>year</th>\n",
       "      <th>Life Ladder</th>\n",
       "      <th>Log GDP per capita</th>\n",
       "      <th>Social support</th>\n",
       "      <th>Healthy life expectancy at birth</th>\n",
       "      <th>Freedom to make life choices</th>\n",
       "      <th>Generosity</th>\n",
       "      <th>Perceptions of corruption</th>\n",
       "    </tr>\n",
       "  </thead>\n",
       "  <tbody>\n",
       "    <tr>\n",
       "      <th>2</th>\n",
       "      <td>Afghanistan</td>\n",
       "      <td>2010</td>\n",
       "      <td>4.758381</td>\n",
       "      <td>7.646709</td>\n",
       "      <td>0.539075</td>\n",
       "      <td>51.599998</td>\n",
       "      <td>0.600127</td>\n",
       "      <td>0.120590</td>\n",
       "      <td>0.706766</td>\n",
       "    </tr>\n",
       "    <tr>\n",
       "      <th>7</th>\n",
       "      <td>Afghanistan</td>\n",
       "      <td>2015</td>\n",
       "      <td>3.982855</td>\n",
       "      <td>7.701992</td>\n",
       "      <td>0.528597</td>\n",
       "      <td>53.200001</td>\n",
       "      <td>0.388928</td>\n",
       "      <td>0.079864</td>\n",
       "      <td>0.880638</td>\n",
       "    </tr>\n",
       "    <tr>\n",
       "      <th>8</th>\n",
       "      <td>Afghanistan</td>\n",
       "      <td>2016</td>\n",
       "      <td>4.220169</td>\n",
       "      <td>7.696560</td>\n",
       "      <td>0.559072</td>\n",
       "      <td>53.000000</td>\n",
       "      <td>0.522566</td>\n",
       "      <td>0.042265</td>\n",
       "      <td>0.793246</td>\n",
       "    </tr>\n",
       "    <tr>\n",
       "      <th>14</th>\n",
       "      <td>Albania</td>\n",
       "      <td>2010</td>\n",
       "      <td>5.268937</td>\n",
       "      <td>9.303230</td>\n",
       "      <td>0.733152</td>\n",
       "      <td>66.400002</td>\n",
       "      <td>0.568958</td>\n",
       "      <td>-0.172107</td>\n",
       "      <td>0.726262</td>\n",
       "    </tr>\n",
       "    <tr>\n",
       "      <th>19</th>\n",
       "      <td>Albania</td>\n",
       "      <td>2015</td>\n",
       "      <td>4.606651</td>\n",
       "      <td>9.403102</td>\n",
       "      <td>0.639356</td>\n",
       "      <td>67.800003</td>\n",
       "      <td>0.703851</td>\n",
       "      <td>-0.080839</td>\n",
       "      <td>0.884793</td>\n",
       "    </tr>\n",
       "  </tbody>\n",
       "</table>\n",
       "</div>"
      ],
      "text/plain": [
       "   Country name  year  Life Ladder  Log GDP per capita  Social support  \\\n",
       "2   Afghanistan  2010     4.758381            7.646709        0.539075   \n",
       "7   Afghanistan  2015     3.982855            7.701992        0.528597   \n",
       "8   Afghanistan  2016     4.220169            7.696560        0.559072   \n",
       "14      Albania  2010     5.268937            9.303230        0.733152   \n",
       "19      Albania  2015     4.606651            9.403102        0.639356   \n",
       "\n",
       "    Healthy life expectancy at birth  Freedom to make life choices  \\\n",
       "2                          51.599998                      0.600127   \n",
       "7                          53.200001                      0.388928   \n",
       "8                          53.000000                      0.522566   \n",
       "14                         66.400002                      0.568958   \n",
       "19                         67.800003                      0.703851   \n",
       "\n",
       "    Generosity  Perceptions of corruption  \n",
       "2     0.120590                   0.706766  \n",
       "7     0.079864                   0.880638  \n",
       "8     0.042265                   0.793246  \n",
       "14   -0.172107                   0.726262  \n",
       "19   -0.080839                   0.884793  "
      ]
     },
     "execution_count": 9,
     "metadata": {},
     "output_type": "execute_result"
    }
   ],
   "source": [
    "data_hscore.head()"
   ]
  },
  {
   "cell_type": "code",
   "execution_count": 10,
   "id": "6bf89280",
   "metadata": {},
   "outputs": [
    {
     "data": {
      "text/plain": [
       "(436, 9)"
      ]
     },
     "execution_count": 10,
     "metadata": {},
     "output_type": "execute_result"
    }
   ],
   "source": [
    "data_hscore.shape"
   ]
  },
  {
   "cell_type": "code",
   "execution_count": 11,
   "id": "c6c465ad",
   "metadata": {},
   "outputs": [
    {
     "data": {
      "text/plain": [
       "Country name                        0.000000\n",
       "year                                0.000000\n",
       "Life Ladder                         0.000000\n",
       "Log GDP per capita                  0.016055\n",
       "Social support                      0.011468\n",
       "Healthy life expectancy at birth    0.027523\n",
       "Freedom to make life choices        0.020642\n",
       "Generosity                          0.080275\n",
       "Perceptions of corruption           0.064220\n",
       "dtype: float64"
      ]
     },
     "execution_count": 11,
     "metadata": {},
     "output_type": "execute_result"
    }
   ],
   "source": [
    "data_hscore.isna().sum()/len(data_hscore)"
   ]
  },
  {
   "cell_type": "code",
   "execution_count": 12,
   "id": "2697f9f3",
   "metadata": {},
   "outputs": [
    {
     "data": {
      "text/html": [
       "<div>\n",
       "<style scoped>\n",
       "    .dataframe tbody tr th:only-of-type {\n",
       "        vertical-align: middle;\n",
       "    }\n",
       "\n",
       "    .dataframe tbody tr th {\n",
       "        vertical-align: top;\n",
       "    }\n",
       "\n",
       "    .dataframe thead th {\n",
       "        text-align: right;\n",
       "    }\n",
       "</style>\n",
       "<table border=\"1\" class=\"dataframe\">\n",
       "  <thead>\n",
       "    <tr style=\"text-align: right;\">\n",
       "      <th></th>\n",
       "      <th>count</th>\n",
       "      <th>mean</th>\n",
       "      <th>std</th>\n",
       "      <th>min</th>\n",
       "      <th>25%</th>\n",
       "      <th>50%</th>\n",
       "      <th>75%</th>\n",
       "      <th>max</th>\n",
       "    </tr>\n",
       "  </thead>\n",
       "  <tbody>\n",
       "    <tr>\n",
       "      <th>year</th>\n",
       "      <td>436.0</td>\n",
       "      <td>2013.284404</td>\n",
       "      <td>3.272573</td>\n",
       "      <td>2005.000000</td>\n",
       "      <td>2010.000000</td>\n",
       "      <td>2015.000000</td>\n",
       "      <td>2016.000000</td>\n",
       "      <td>2016.000000</td>\n",
       "    </tr>\n",
       "    <tr>\n",
       "      <th>Life Ladder</th>\n",
       "      <td>436.0</td>\n",
       "      <td>5.493444</td>\n",
       "      <td>1.139714</td>\n",
       "      <td>2.693061</td>\n",
       "      <td>4.621590</td>\n",
       "      <td>5.460433</td>\n",
       "      <td>6.362820</td>\n",
       "      <td>8.018934</td>\n",
       "    </tr>\n",
       "    <tr>\n",
       "      <th>Log GDP per capita</th>\n",
       "      <td>429.0</td>\n",
       "      <td>9.443266</td>\n",
       "      <td>1.147558</td>\n",
       "      <td>6.785016</td>\n",
       "      <td>8.503568</td>\n",
       "      <td>9.561364</td>\n",
       "      <td>10.461033</td>\n",
       "      <td>11.640030</td>\n",
       "    </tr>\n",
       "    <tr>\n",
       "      <th>Social support</th>\n",
       "      <td>431.0</td>\n",
       "      <td>0.818310</td>\n",
       "      <td>0.119804</td>\n",
       "      <td>0.290184</td>\n",
       "      <td>0.760454</td>\n",
       "      <td>0.847095</td>\n",
       "      <td>0.911562</td>\n",
       "      <td>0.987343</td>\n",
       "    </tr>\n",
       "    <tr>\n",
       "      <th>Healthy life expectancy at birth</th>\n",
       "      <td>424.0</td>\n",
       "      <td>63.770807</td>\n",
       "      <td>7.318212</td>\n",
       "      <td>32.299999</td>\n",
       "      <td>59.275000</td>\n",
       "      <td>65.500000</td>\n",
       "      <td>68.800003</td>\n",
       "      <td>76.199997</td>\n",
       "    </tr>\n",
       "    <tr>\n",
       "      <th>Freedom to make life choices</th>\n",
       "      <td>427.0</td>\n",
       "      <td>0.746623</td>\n",
       "      <td>0.137099</td>\n",
       "      <td>0.303540</td>\n",
       "      <td>0.656119</td>\n",
       "      <td>0.771722</td>\n",
       "      <td>0.849874</td>\n",
       "      <td>0.983803</td>\n",
       "    </tr>\n",
       "    <tr>\n",
       "      <th>Generosity</th>\n",
       "      <td>401.0</td>\n",
       "      <td>0.008733</td>\n",
       "      <td>0.160866</td>\n",
       "      <td>-0.302877</td>\n",
       "      <td>-0.096824</td>\n",
       "      <td>-0.028660</td>\n",
       "      <td>0.095851</td>\n",
       "      <td>0.687560</td>\n",
       "    </tr>\n",
       "    <tr>\n",
       "      <th>Perceptions of corruption</th>\n",
       "      <td>408.0</td>\n",
       "      <td>0.744549</td>\n",
       "      <td>0.190793</td>\n",
       "      <td>0.047311</td>\n",
       "      <td>0.691939</td>\n",
       "      <td>0.809261</td>\n",
       "      <td>0.868467</td>\n",
       "      <td>0.983276</td>\n",
       "    </tr>\n",
       "  </tbody>\n",
       "</table>\n",
       "</div>"
      ],
      "text/plain": [
       "                                  count         mean       std          min  \\\n",
       "year                              436.0  2013.284404  3.272573  2005.000000   \n",
       "Life Ladder                       436.0     5.493444  1.139714     2.693061   \n",
       "Log GDP per capita                429.0     9.443266  1.147558     6.785016   \n",
       "Social support                    431.0     0.818310  0.119804     0.290184   \n",
       "Healthy life expectancy at birth  424.0    63.770807  7.318212    32.299999   \n",
       "Freedom to make life choices      427.0     0.746623  0.137099     0.303540   \n",
       "Generosity                        401.0     0.008733  0.160866    -0.302877   \n",
       "Perceptions of corruption         408.0     0.744549  0.190793     0.047311   \n",
       "\n",
       "                                          25%          50%          75%  \\\n",
       "year                              2010.000000  2015.000000  2016.000000   \n",
       "Life Ladder                          4.621590     5.460433     6.362820   \n",
       "Log GDP per capita                   8.503568     9.561364    10.461033   \n",
       "Social support                       0.760454     0.847095     0.911562   \n",
       "Healthy life expectancy at birth    59.275000    65.500000    68.800003   \n",
       "Freedom to make life choices         0.656119     0.771722     0.849874   \n",
       "Generosity                          -0.096824    -0.028660     0.095851   \n",
       "Perceptions of corruption            0.691939     0.809261     0.868467   \n",
       "\n",
       "                                          max  \n",
       "year                              2016.000000  \n",
       "Life Ladder                          8.018934  \n",
       "Log GDP per capita                  11.640030  \n",
       "Social support                       0.987343  \n",
       "Healthy life expectancy at birth    76.199997  \n",
       "Freedom to make life choices         0.983803  \n",
       "Generosity                           0.687560  \n",
       "Perceptions of corruption            0.983276  "
      ]
     },
     "execution_count": 12,
     "metadata": {},
     "output_type": "execute_result"
    }
   ],
   "source": [
    "data_hscore.describe().T"
   ]
  },
  {
   "cell_type": "code",
   "execution_count": 13,
   "id": "eb2782a0",
   "metadata": {},
   "outputs": [
    {
     "data": {
      "text/plain": [
       "array([[<AxesSubplot:title={'center':'year'}>,\n",
       "        <AxesSubplot:title={'center':'Life Ladder'}>,\n",
       "        <AxesSubplot:title={'center':'Log GDP per capita'}>],\n",
       "       [<AxesSubplot:title={'center':'Social support'}>,\n",
       "        <AxesSubplot:title={'center':'Healthy life expectancy at birth'}>,\n",
       "        <AxesSubplot:title={'center':'Freedom to make life choices'}>],\n",
       "       [<AxesSubplot:title={'center':'Generosity'}>,\n",
       "        <AxesSubplot:title={'center':'Perceptions of corruption'}>,\n",
       "        <AxesSubplot:>]], dtype=object)"
      ]
     },
     "execution_count": 13,
     "metadata": {},
     "output_type": "execute_result"
    },
    {
     "data": {
      "image/png": "[encoded data removed]",
      "text/plain": [
       "<Figure size 432x288 with 9 Axes>"
      ]
     },
     "metadata": {
      "needs_background": "light"
     },
     "output_type": "display_data"
    }
   ],
   "source": [
    "data_hscore.hist()"
   ]
  },
  {
   "cell_type": "code",
   "execution_count": 14,
   "id": "93718836",
   "metadata": {},
   "outputs": [],
   "source": [
    "#plotted the columns to decide what to do with NaN values, and decided, since there's not a lot of them, and seeing the distribution of values, to fill them with the calculated mean"
   ]
  },
  {
   "cell_type": "code",
   "execution_count": 15,
   "id": "fb6af9f1",
   "metadata": {},
   "outputs": [],
   "source": [
    "data_hscore['Log GDP per capita']=data_hscore['Log GDP per capita'].fillna(np.mean(data_hscore['Log GDP per capita']))\n",
    "data_hscore['Social support']=data_hscore['Social support'].fillna(np.mean(data_hscore['Social support']))\n",
    "data_hscore['Healthy life expectancy at birth']=data_hscore['Healthy life expectancy at birth'].fillna(np.mean(data_hscore['Healthy life expectancy at birth']))\n",
    "data_hscore['Freedom to make life choices']=data_hscore['Freedom to make life choices'].fillna(np.mean(data_hscore['Freedom to make life choices']))\n",
    "data_hscore['Generosity']=data_hscore['Generosity'].fillna(np.mean(data_hscore['Generosity']))\n",
    "data_hscore['Perceptions of corruption']=data_hscore['Perceptions of corruption'].fillna(np.mean(data_hscore['Perceptions of corruption']))"
   ]
  },
  {
   "cell_type": "code",
   "execution_count": 16,
   "id": "3ee65d2b",
   "metadata": {},
   "outputs": [
    {
     "data": {
      "text/plain": [
       "Country name                        0.0\n",
       "year                                0.0\n",
       "Life Ladder                         0.0\n",
       "Log GDP per capita                  0.0\n",
       "Social support                      0.0\n",
       "Healthy life expectancy at birth    0.0\n",
       "Freedom to make life choices        0.0\n",
       "Generosity                          0.0\n",
       "Perceptions of corruption           0.0\n",
       "dtype: float64"
      ]
     },
     "execution_count": 16,
     "metadata": {},
     "output_type": "execute_result"
    }
   ],
   "source": [
    "data_hscore.isna().sum()/len(data_hscore)"
   ]
  },
  {
   "cell_type": "code",
   "execution_count": 17,
   "id": "9f8b4f3a",
   "metadata": {},
   "outputs": [
    {
     "name": "stdout",
     "output_type": "stream",
     "text": [
      "4\n",
      "4\n",
      "4\n",
      "4\n",
      "4\n",
      "4\n",
      "4\n",
      "4\n",
      "4\n",
      "4\n",
      "4\n",
      "4\n",
      "4\n",
      "4\n",
      "4\n",
      "4\n",
      "4\n",
      "4\n",
      "4\n",
      "4\n",
      "4\n",
      "4\n",
      "4\n",
      "4\n",
      "4\n",
      "4\n",
      "3\n",
      "3\n",
      "3\n",
      "3\n",
      "3\n",
      "3\n",
      "3\n",
      "3\n",
      "3\n",
      "3\n",
      "3\n",
      "3\n",
      "3\n",
      "3\n",
      "3\n",
      "3\n",
      "3\n",
      "3\n",
      "3\n",
      "3\n",
      "3\n",
      "3\n",
      "3\n",
      "3\n",
      "3\n",
      "3\n",
      "3\n",
      "3\n",
      "3\n",
      "3\n",
      "3\n",
      "3\n",
      "3\n",
      "3\n",
      "3\n",
      "3\n",
      "3\n",
      "3\n",
      "3\n",
      "3\n",
      "3\n",
      "3\n",
      "3\n",
      "3\n",
      "3\n",
      "3\n",
      "3\n",
      "3\n",
      "3\n",
      "3\n",
      "3\n",
      "3\n",
      "3\n",
      "3\n",
      "3\n",
      "3\n",
      "3\n",
      "3\n",
      "3\n",
      "3\n",
      "3\n",
      "3\n",
      "3\n",
      "3\n",
      "3\n",
      "3\n",
      "3\n",
      "3\n",
      "3\n",
      "3\n",
      "3\n",
      "3\n",
      "3\n",
      "3\n",
      "3\n",
      "3\n",
      "3\n",
      "3\n",
      "3\n",
      "3\n",
      "3\n",
      "3\n",
      "3\n",
      "3\n",
      "3\n",
      "3\n",
      "3\n",
      "3\n",
      "2\n",
      "2\n",
      "2\n",
      "2\n",
      "2\n",
      "2\n",
      "2\n",
      "2\n",
      "2\n",
      "2\n",
      "2\n",
      "2\n",
      "2\n",
      "2\n",
      "2\n",
      "2\n",
      "2\n",
      "2\n",
      "2\n",
      "2\n",
      "2\n",
      "2\n",
      "2\n",
      "2\n",
      "2\n",
      "2\n",
      "2\n",
      "2\n",
      "2\n",
      "2\n",
      "1\n",
      "1\n",
      "1\n",
      "1\n",
      "1\n",
      "1\n",
      "1\n",
      "1\n"
     ]
    }
   ],
   "source": [
    "for i in data_hscore['Country name'].value_counts():\n",
    "    print (i)\n"
   ]
  },
  {
   "cell_type": "code",
   "execution_count": 18,
   "id": "f6646123",
   "metadata": {},
   "outputs": [
    {
     "data": {
      "text/plain": [
       "Norway               2\n",
       "Algeria              2\n",
       "Somaliland region    1\n",
       "Sudan                1\n",
       "Bhutan               1\n",
       "Mauritius            1\n",
       "Comoros              1\n",
       "Djibouti             1\n",
       "Lesotho              1\n",
       "Mozambique           1\n",
       "Name: Country name, dtype: int64"
      ]
     },
     "execution_count": 18,
     "metadata": {},
     "output_type": "execute_result"
    }
   ],
   "source": [
    "data_hscore['Country name'].value_counts().tail(10)"
   ]
  },
  {
   "cell_type": "code",
   "execution_count": 19,
   "id": "abecf88a",
   "metadata": {},
   "outputs": [
    {
     "data": {
      "text/plain": [
       "array(['Afghanistan', 'Albania', 'Algeria', 'Argentina', 'Armenia',\n",
       "       'Australia', 'Austria', 'Azerbaijan', 'Bahrain', 'Bangladesh',\n",
       "       'Belarus', 'Belgium', 'Benin', 'Bhutan', 'Bolivia',\n",
       "       'Bosnia and Herzegovina', 'Botswana', 'Brazil', 'Bulgaria',\n",
       "       'Burkina Faso', 'Cambodia', 'Cameroon', 'Canada',\n",
       "       'Central African Republic', 'Chad', 'Chile', 'China', 'Colombia',\n",
       "       'Comoros', 'Congo (Brazzaville)', 'Congo (Kinshasa)', 'Costa Rica',\n",
       "       'Croatia', 'Cyprus', 'Czech Republic', 'Denmark', 'Djibouti',\n",
       "       'Dominican Republic', 'Ecuador', 'Egypt', 'El Salvador', 'Estonia',\n",
       "       'Ethiopia', 'Finland', 'France', 'Gabon', 'Georgia', 'Germany',\n",
       "       'Ghana', 'Greece', 'Guatemala', 'Guinea', 'Haiti', 'Honduras',\n",
       "       'Hong Kong S.A.R. of China', 'Hungary', 'Iceland', 'India',\n",
       "       'Indonesia', 'Iran', 'Iraq', 'Ireland', 'Israel', 'Italy',\n",
       "       'Ivory Coast', 'Japan', 'Jordan', 'Kazakhstan', 'Kenya', 'Kosovo',\n",
       "       'Kuwait', 'Kyrgyzstan', 'Latvia', 'Lebanon', 'Lesotho', 'Liberia',\n",
       "       'Libya', 'Lithuania', 'Luxembourg', 'Madagascar', 'Malawi',\n",
       "       'Malaysia', 'Mali', 'Malta', 'Mauritania', 'Mauritius', 'Mexico',\n",
       "       'Moldova', 'Mongolia', 'Montenegro', 'Morocco', 'Mozambique',\n",
       "       'Myanmar', 'Nepal', 'Netherlands', 'New Zealand', 'Nicaragua',\n",
       "       'Niger', 'Nigeria', 'North Cyprus', 'North Macedonia', 'Norway',\n",
       "       'Pakistan', 'Palestinian Territories', 'Panama', 'Paraguay',\n",
       "       'Peru', 'Philippines', 'Poland', 'Portugal', 'Qatar', 'Romania',\n",
       "       'Russia', 'Rwanda', 'Saudi Arabia', 'Senegal', 'Serbia',\n",
       "       'Sierra Leone', 'Singapore', 'Slovakia', 'Slovenia', 'Somalia',\n",
       "       'Somaliland region', 'South Africa', 'South Korea', 'South Sudan',\n",
       "       'Spain', 'Sri Lanka', 'Sudan', 'Sweden', 'Switzerland', 'Syria',\n",
       "       'Taiwan Province of China', 'Tajikistan', 'Tanzania', 'Thailand',\n",
       "       'Togo', 'Tunisia', 'Turkey', 'Turkmenistan', 'Uganda', 'Ukraine',\n",
       "       'United Arab Emirates', 'United Kingdom', 'United States',\n",
       "       'Uruguay', 'Uzbekistan', 'Venezuela', 'Vietnam', 'Yemen', 'Zambia',\n",
       "       'Zimbabwe'], dtype=object)"
      ]
     },
     "execution_count": 19,
     "metadata": {},
     "output_type": "execute_result"
    }
   ],
   "source": [
    "data_hscore['Country name'].unique()"
   ]
  },
  {
   "cell_type": "code",
   "execution_count": 20,
   "id": "355a3799",
   "metadata": {},
   "outputs": [
    {
     "data": {
      "text/plain": [
       "152"
      ]
     },
     "execution_count": 20,
     "metadata": {},
     "output_type": "execute_result"
    }
   ],
   "source": [
    "len(data_hscore['Country name'].unique())"
   ]
  },
  {
   "cell_type": "code",
   "execution_count": 21,
   "id": "c02ddade",
   "metadata": {},
   "outputs": [],
   "source": [
    "#created a data frame with only the variable values, to see the correlation between that and the happy score (life ladder)"
   ]
  },
  {
   "cell_type": "code",
   "execution_count": 22,
   "id": "daa91a2d",
   "metadata": {},
   "outputs": [],
   "source": [
    "data_hscore_values=data_hscore.drop(['year','Country name'],axis=1)"
   ]
  },
  {
   "cell_type": "code",
   "execution_count": 23,
   "id": "75b622ab",
   "metadata": {},
   "outputs": [],
   "source": [
    "corr_matrix=data_hscore_values.corr()"
   ]
  },
  {
   "cell_type": "code",
   "execution_count": 24,
   "id": "9b511cae",
   "metadata": {},
   "outputs": [
    {
     "data": {
      "image/png": "[encoded data removed]",
      "text/plain": [
       "<Figure size 432x288 with 2 Axes>"
      ]
     },
     "metadata": {
      "needs_background": "light"
     },
     "output_type": "display_data"
    }
   ],
   "source": [
    "sns.heatmap(corr_matrix,annot=True)\n",
    "plt.show()"
   ]
  },
  {
   "cell_type": "code",
   "execution_count": 25,
   "id": "dd8ae483",
   "metadata": {},
   "outputs": [
    {
     "data": {
      "text/plain": [
       "(436, 7)"
      ]
     },
     "execution_count": 25,
     "metadata": {},
     "output_type": "execute_result"
    }
   ],
   "source": [
    "data_hscore_values.shape"
   ]
  },
  {
   "cell_type": "code",
   "execution_count": 26,
   "id": "6b9c1776",
   "metadata": {},
   "outputs": [],
   "source": [
    "#from this correlation plot, we can see that GDP is really highly relted to overall mind state of the country, this si absolutly obvious, since it leads to better sanitation, education,and overall life commodity.\n",
    "# i wanted to look deeply in the healthy life expectancy at birth, bringing from another dataset more information about overall health, to see what variables affect the most to this emocional state"
   ]
  },
  {
   "cell_type": "code",
   "execution_count": 27,
   "id": "34c484d5",
   "metadata": {},
   "outputs": [],
   "source": [
    "#CREATE MODEL "
   ]
  },
  {
   "cell_type": "code",
   "execution_count": 28,
   "id": "c76bada9",
   "metadata": {},
   "outputs": [],
   "source": [
    "#X-Y SPLIT"
   ]
  },
  {
   "cell_type": "code",
   "execution_count": 29,
   "id": "ced53814",
   "metadata": {},
   "outputs": [],
   "source": [
    "X=data_hscore_values.drop(['Life Ladder'],axis=1)\n",
    "y=data_hscore_values['Life Ladder']"
   ]
  },
  {
   "cell_type": "code",
   "execution_count": 30,
   "id": "aa31ec01",
   "metadata": {},
   "outputs": [],
   "source": [
    "#TRAIN TEST SPLIT"
   ]
  },
  {
   "cell_type": "code",
   "execution_count": 31,
   "id": "541a59b2",
   "metadata": {},
   "outputs": [],
   "source": [
    "from sklearn.model_selection import train_test_split\n",
    "X_train, X_test, y_train, y_test = train_test_split(X, y, test_size=0.2, random_state=0)"
   ]
  },
  {
   "cell_type": "code",
   "execution_count": 32,
   "id": "40b66439",
   "metadata": {},
   "outputs": [],
   "source": [
    "#TRANSFORMATIONS"
   ]
  },
  {
   "cell_type": "code",
   "execution_count": 33,
   "id": "7cf68ca7",
   "metadata": {},
   "outputs": [],
   "source": [
    "from sklearn.preprocessing import MinMaxScaler\n",
    "from sklearn.preprocessing import StandardScaler"
   ]
  },
  {
   "cell_type": "code",
   "execution_count": 35,
   "id": "bd10306f",
   "metadata": {},
   "outputs": [],
   "source": [
    "transformer1 = StandardScaler().fit(X_train)\n",
    "X_train_scaled = pd.DataFrame(transformer1.transform(X_train),columns=X_train.columns)\n",
    "X_test_scaled = pd.DataFrame(transformer1.transform(X_test),columns=X_test.columns)\n",
    "\n",
    "transformer2 = MinMaxScaler().fit(X_train)\n",
    "X_train_normalized = pd.DataFrame(transformer2.transform(X_train), columns=X_train.columns)\n",
    "X_test_normalized = pd.DataFrame(transformer2.transform(X_test), columns=X_test.columns)"
   ]
  },
  {
   "cell_type": "code",
   "execution_count": 36,
   "id": "90f58001",
   "metadata": {},
   "outputs": [
    {
     "data": {
      "text/plain": [
       "(348, 6)"
      ]
     },
     "execution_count": 36,
     "metadata": {},
     "output_type": "execute_result"
    }
   ],
   "source": [
    "X_train_normalized.shape"
   ]
  },
  {
   "cell_type": "code",
   "execution_count": 37,
   "id": "3169bfc8",
   "metadata": {},
   "outputs": [
    {
     "data": {
      "text/plain": [
       "(88, 6)"
      ]
     },
     "execution_count": 37,
     "metadata": {},
     "output_type": "execute_result"
    }
   ],
   "source": [
    "X_test_normalized.shape"
   ]
  },
  {
   "cell_type": "code",
   "execution_count": 38,
   "id": "8a61b973",
   "metadata": {},
   "outputs": [
    {
     "data": {
      "text/plain": [
       "array([[<AxesSubplot:title={'center':'Log GDP per capita'}>,\n",
       "        <AxesSubplot:title={'center':'Social support'}>],\n",
       "       [<AxesSubplot:title={'center':'Healthy life expectancy at birth'}>,\n",
       "        <AxesSubplot:title={'center':'Freedom to make life choices'}>],\n",
       "       [<AxesSubplot:title={'center':'Generosity'}>,\n",
       "        <AxesSubplot:title={'center':'Perceptions of corruption'}>]],\n",
       "      dtype=object)"
      ]
     },
     "execution_count": 38,
     "metadata": {},
     "output_type": "execute_result"
    },
    {
     "data": {
      "image/png": "[encoded data removed]",
      "text/plain": [
       "<Figure size 432x288 with 6 Axes>"
      ]
     },
     "metadata": {
      "needs_background": "light"
     },
     "output_type": "display_data"
    }
   ],
   "source": [
    "X_train_scaled.hist()"
   ]
  },
  {
   "cell_type": "code",
   "execution_count": 39,
   "id": "bd28a782",
   "metadata": {},
   "outputs": [
    {
     "data": {
      "text/plain": [
       "array([[<AxesSubplot:title={'center':'Log GDP per capita'}>,\n",
       "        <AxesSubplot:title={'center':'Social support'}>],\n",
       "       [<AxesSubplot:title={'center':'Healthy life expectancy at birth'}>,\n",
       "        <AxesSubplot:title={'center':'Freedom to make life choices'}>],\n",
       "       [<AxesSubplot:title={'center':'Generosity'}>,\n",
       "        <AxesSubplot:title={'center':'Perceptions of corruption'}>]],\n",
       "      dtype=object)"
      ]
     },
     "execution_count": 39,
     "metadata": {},
     "output_type": "execute_result"
    },
    {
     "data": {
      "image/png": "[encoded data removed]",
      "text/plain": [
       "<Figure size 432x288 with 6 Axes>"
      ]
     },
     "metadata": {
      "needs_background": "light"
     },
     "output_type": "display_data"
    }
   ],
   "source": [
    "X_train_normalized.hist()"
   ]
  },
  {
   "cell_type": "code",
   "execution_count": 40,
   "id": "40df6342",
   "metadata": {},
   "outputs": [],
   "source": [
    "#LINEAR REGRESSION MODEL"
   ]
  },
  {
   "cell_type": "code",
   "execution_count": 41,
   "id": "71f21acb",
   "metadata": {},
   "outputs": [],
   "source": [
    "from sklearn import linear_model"
   ]
  },
  {
   "cell_type": "code",
   "execution_count": 42,
   "id": "72891de4",
   "metadata": {},
   "outputs": [
    {
     "data": {
      "text/plain": [
       "(348, 6)"
      ]
     },
     "execution_count": 42,
     "metadata": {},
     "output_type": "execute_result"
    }
   ],
   "source": [
    "X_train_scaled.shape"
   ]
  },
  {
   "cell_type": "code",
   "execution_count": 43,
   "id": "00aa4219",
   "metadata": {},
   "outputs": [
    {
     "data": {
      "text/plain": [
       "(88, 6)"
      ]
     },
     "execution_count": 43,
     "metadata": {},
     "output_type": "execute_result"
    }
   ],
   "source": [
    "X_test_scaled.shape"
   ]
  },
  {
   "cell_type": "code",
   "execution_count": 44,
   "id": "e199be20",
   "metadata": {},
   "outputs": [
    {
     "data": {
      "text/plain": [
       "0.7384241011336075"
      ]
     },
     "execution_count": 44,
     "metadata": {},
     "output_type": "execute_result"
    }
   ],
   "source": [
    "LR_scaled = linear_model.LinearRegression()\n",
    "LR_scaled.fit(X_train_scaled, y_train)\n",
    "LR_scaled.score(X_test_scaled, y_test)"
   ]
  },
  {
   "cell_type": "code",
   "execution_count": 51,
   "id": "22666a12",
   "metadata": {},
   "outputs": [],
   "source": [
    "LR_normalized = linear_model.LinearRegression()\n",
    "model=LR_normalized.fit(X_train_normalized, y_train)\n",
    "LR_normalized.score(X_test_normalized, y_test)\n",
    "predictions=model.predict(X_test_normalized)"
   ]
  },
  {
   "cell_type": "code",
   "execution_count": 46,
   "id": "b4025ddb",
   "metadata": {},
   "outputs": [
    {
     "data": {
      "text/plain": [
       "array([ 0.42625872,  0.25233975,  0.23678567,  0.16046803,  0.08470888,\n",
       "       -0.1259314 ])"
      ]
     },
     "execution_count": 46,
     "metadata": {},
     "output_type": "execute_result"
    }
   ],
   "source": [
    "LR_scaled.coef_"
   ]
  },
  {
   "cell_type": "code",
   "execution_count": 47,
   "id": "6b503371",
   "metadata": {},
   "outputs": [
    {
     "data": {
      "text/plain": [
       "array([ 1.83374571,  1.51658874,  1.44102142,  0.74058561,  0.53682763,\n",
       "       -0.63278538])"
      ]
     },
     "execution_count": 47,
     "metadata": {},
     "output_type": "execute_result"
    }
   ],
   "source": [
    "LR_normalized.coef_"
   ]
  },
  {
   "cell_type": "code",
   "execution_count": 48,
   "id": "dc9a7bea",
   "metadata": {},
   "outputs": [],
   "source": [
    "data_hscore_use=data_hscore[(data_hscore['year']==2015)]"
   ]
  },
  {
   "cell_type": "code",
   "execution_count": 49,
   "id": "5e05573a",
   "metadata": {},
   "outputs": [],
   "source": [
    "data_hscore_use.to_csv('HSCORE.csv')"
   ]
  },
  {
   "cell_type": "code",
   "execution_count": 50,
   "id": "961b0d91",
   "metadata": {},
   "outputs": [],
   "source": [
    "from sklearn.metrics import mean_squared_error, r2_score"
   ]
  },
  {
   "cell_type": "code",
   "execution_count": 53,
   "id": "cb33ca47",
   "metadata": {},
   "outputs": [
    {
     "data": {
      "text/plain": [
       "0.3664942450599508"
      ]
     },
     "execution_count": 53,
     "metadata": {},
     "output_type": "execute_result"
    }
   ],
   "source": [
    "mean_squared_error(y_test, predictions)"
   ]
  },
  {
   "cell_type": "code",
   "execution_count": null,
   "id": "84a369f6",
   "metadata": {},
   "outputs": [],
   "source": []
  }
 ],
 "metadata": {
  "kernelspec": {
   "display_name": "Python 3",
   "language": "python",
   "name": "python3"
  },
  "language_info": {
   "codemirror_mode": {
    "name": "ipython",
    "version": 3
   },
   "file_extension": ".py",
   "mimetype": "text/x-python",
   "name": "python",
   "nbconvert_exporter": "python",
   "pygments_lexer": "ipython3",
   "version": "3.8.8"
  }
 },
 "nbformat": 4,
 "nbformat_minor": 5
}
