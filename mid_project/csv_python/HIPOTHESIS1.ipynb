{
 "cells": [
  {
   "cell_type": "code",
   "execution_count": 1,
   "id": "8999d58e",
   "metadata": {},
   "outputs": [
    {
     "name": "stdout",
     "output_type": "stream",
     "text": [
      "········\n"
     ]
    }
   ],
   "source": [
    "import pymysql\n",
    "from sqlalchemy import create_engine\n",
    "import pandas as pd\n",
    "import getpass \n",
    "import numpy as np\n",
    "password = getpass.getpass()"
   ]
  },
  {
   "cell_type": "code",
   "execution_count": 7,
   "id": "ab78e1d7",
   "metadata": {},
   "outputs": [
    {
     "data": {
      "text/html": [
       "<div>\n",
       "<style scoped>\n",
       "    .dataframe tbody tr th:only-of-type {\n",
       "        vertical-align: middle;\n",
       "    }\n",
       "\n",
       "    .dataframe tbody tr th {\n",
       "        vertical-align: top;\n",
       "    }\n",
       "\n",
       "    .dataframe thead th {\n",
       "        text-align: right;\n",
       "    }\n",
       "</style>\n",
       "<table border=\"1\" class=\"dataframe\">\n",
       "  <thead>\n",
       "    <tr style=\"text-align: right;\">\n",
       "      <th></th>\n",
       "      <th>country</th>\n",
       "      <th>yes_percentage</th>\n",
       "      <th>happy_score</th>\n",
       "    </tr>\n",
       "  </thead>\n",
       "  <tbody>\n",
       "    <tr>\n",
       "      <th>0</th>\n",
       "      <td>Estonia</td>\n",
       "      <td>16%</td>\n",
       "      <td>5.628909</td>\n",
       "    </tr>\n",
       "    <tr>\n",
       "      <th>1</th>\n",
       "      <td>Sweden</td>\n",
       "      <td>17%</td>\n",
       "      <td>7.288922</td>\n",
       "    </tr>\n",
       "    <tr>\n",
       "      <th>2</th>\n",
       "      <td>Denmark</td>\n",
       "      <td>19%</td>\n",
       "      <td>7.514425</td>\n",
       "    </tr>\n",
       "    <tr>\n",
       "      <th>3</th>\n",
       "      <td>Norway</td>\n",
       "      <td>22%</td>\n",
       "      <td>7.603434</td>\n",
       "    </tr>\n",
       "    <tr>\n",
       "      <th>4</th>\n",
       "      <td>Japan</td>\n",
       "      <td>24%</td>\n",
       "      <td>5.879684</td>\n",
       "    </tr>\n",
       "  </tbody>\n",
       "</table>\n",
       "</div>"
      ],
      "text/plain": [
       "   country yes_percentage  happy_score\n",
       "0  Estonia            16%     5.628909\n",
       "1   Sweden            17%     7.288922\n",
       "2  Denmark            19%     7.514425\n",
       "3   Norway            22%     7.603434\n",
       "4    Japan            24%     5.879684"
      ]
     },
     "execution_count": 7,
     "metadata": {},
     "output_type": "execute_result"
    }
   ],
   "source": [
    "connection_string = 'mysql+pymysql://root:' + password + '@localhost/happiness'\n",
    "engine = create_engine(connection_string)\n",
    "query = '''SELECT h.country, r.yes_percentage , h.happy_score\n",
    "FROM religions r\n",
    "JOIN hscore h\n",
    "USING (country);'''\n",
    "\n",
    "data = pd.read_sql_query(query, engine)\n",
    "data.head()"
   ]
  },
  {
   "cell_type": "code",
   "execution_count": 22,
   "id": "3128287e",
   "metadata": {},
   "outputs": [],
   "source": [
    "def clean(x):\n",
    "    if '%' in  str(x):\n",
    "        x = x[:-1]\n",
    "        return x\n",
    "    else:\n",
    "        return x\n",
    "    \n",
    "data['yes_percentage']=data['yes_percentage'].apply(clean).astype(np.number)\n",
    "data['happy_score']=data['happy_score'].astype(np.number)"
   ]
  },
  {
   "cell_type": "code",
   "execution_count": 23,
   "id": "25e1d4cf",
   "metadata": {},
   "outputs": [
    {
     "data": {
      "text/html": [
       "<div>\n",
       "<style scoped>\n",
       "    .dataframe tbody tr th:only-of-type {\n",
       "        vertical-align: middle;\n",
       "    }\n",
       "\n",
       "    .dataframe tbody tr th {\n",
       "        vertical-align: top;\n",
       "    }\n",
       "\n",
       "    .dataframe thead th {\n",
       "        text-align: right;\n",
       "    }\n",
       "</style>\n",
       "<table border=\"1\" class=\"dataframe\">\n",
       "  <thead>\n",
       "    <tr style=\"text-align: right;\">\n",
       "      <th></th>\n",
       "      <th>country</th>\n",
       "      <th>yes_percentage</th>\n",
       "      <th>happy_score</th>\n",
       "    </tr>\n",
       "  </thead>\n",
       "  <tbody>\n",
       "    <tr>\n",
       "      <th>0</th>\n",
       "      <td>Estonia</td>\n",
       "      <td>16.0</td>\n",
       "      <td>5.628909</td>\n",
       "    </tr>\n",
       "    <tr>\n",
       "      <th>1</th>\n",
       "      <td>Sweden</td>\n",
       "      <td>17.0</td>\n",
       "      <td>7.288922</td>\n",
       "    </tr>\n",
       "    <tr>\n",
       "      <th>2</th>\n",
       "      <td>Denmark</td>\n",
       "      <td>19.0</td>\n",
       "      <td>7.514425</td>\n",
       "    </tr>\n",
       "    <tr>\n",
       "      <th>3</th>\n",
       "      <td>Norway</td>\n",
       "      <td>22.0</td>\n",
       "      <td>7.603434</td>\n",
       "    </tr>\n",
       "    <tr>\n",
       "      <th>4</th>\n",
       "      <td>Japan</td>\n",
       "      <td>24.0</td>\n",
       "      <td>5.879684</td>\n",
       "    </tr>\n",
       "  </tbody>\n",
       "</table>\n",
       "</div>"
      ],
      "text/plain": [
       "   country  yes_percentage  happy_score\n",
       "0  Estonia            16.0     5.628909\n",
       "1   Sweden            17.0     7.288922\n",
       "2  Denmark            19.0     7.514425\n",
       "3   Norway            22.0     7.603434\n",
       "4    Japan            24.0     5.879684"
      ]
     },
     "execution_count": 23,
     "metadata": {},
     "output_type": "execute_result"
    }
   ],
   "source": [
    "data.head()"
   ]
  },
  {
   "cell_type": "code",
   "execution_count": 24,
   "id": "a7c54a6c",
   "metadata": {},
   "outputs": [],
   "source": [
    "#H0: importance of religion is independent to the happy score of each country\n",
    "#data_h['yes_percentage']=data_s['yes_percentage']"
   ]
  },
  {
   "cell_type": "code",
   "execution_count": 25,
   "id": "fcb06031",
   "metadata": {},
   "outputs": [],
   "source": [
    "data_h=data[data['happy_score']>5.5]\n",
    "data_s=data[data['happy_score']<=5.5]"
   ]
  },
  {
   "cell_type": "code",
   "execution_count": 26,
   "id": "3408a372",
   "metadata": {},
   "outputs": [
    {
     "name": "stdout",
     "output_type": "stream",
     "text": [
      "2.0804627004984745e-27\n",
      "Probably dependent\n"
     ]
    }
   ],
   "source": [
    "import scipy.stats as st\n",
    "table=pd.crosstab(data_h['yes_percentage'], data_h['yes_percentage'])\n",
    "p=st.chi2_contingency(table)[1]\n",
    "print(p)\n",
    "if p > 0.05:\n",
    "    print('Probably independent')\n",
    "else:\n",
    "    print('Probably dependent')"
   ]
  },
  {
   "cell_type": "code",
   "execution_count": 29,
   "id": "e21e49b9",
   "metadata": {},
   "outputs": [],
   "source": [
    "data.to_csv('hip_religion1.csv')"
   ]
  },
  {
   "cell_type": "code",
   "execution_count": 28,
   "id": "eabc9f9e",
   "metadata": {},
   "outputs": [
    {
     "data": {
      "text/plain": [
       "country            object\n",
       "yes_percentage    float64\n",
       "happy_score       float64\n",
       "dtype: object"
      ]
     },
     "execution_count": 28,
     "metadata": {},
     "output_type": "execute_result"
    }
   ],
   "source": [
    "data.dtypes"
   ]
  },
  {
   "cell_type": "code",
   "execution_count": null,
   "id": "ca254667",
   "metadata": {},
   "outputs": [],
   "source": []
  }
 ],
 "metadata": {
  "kernelspec": {
   "display_name": "Python 3",
   "language": "python",
   "name": "python3"
  },
  "language_info": {
   "codemirror_mode": {
    "name": "ipython",
    "version": 3
   },
   "file_extension": ".py",
   "mimetype": "text/x-python",
   "name": "python",
   "nbconvert_exporter": "python",
   "pygments_lexer": "ipython3",
   "version": "3.8.8"
  }
 },
 "nbformat": 4,
 "nbformat_minor": 5
}
